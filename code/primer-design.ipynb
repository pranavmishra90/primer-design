{
 "cells": [
  {
   "cell_type": "markdown",
   "id": "147434c7",
   "metadata": {},
   "source": [
    "# Primer design with Primer3\n",
    "\n",
    "Current release: v0.0.1\n",
    "\n",
    "#### Created by  \n",
    "**Dr. Pranav Kumar Mishra**  \n",
    "Post-Doctoral Research Fellow   \n",
    "Rush University Medical Center  "
   ]
  },
  {
   "cell_type": "markdown",
   "id": "edb50a4c",
   "metadata": {},
   "source": [
    "## Python Libraries"
   ]
  },
  {
   "cell_type": "code",
   "execution_count": 9,
   "id": "9c2c66a7-e771-4a85-85c3-25dd940d900d",
   "metadata": {},
   "outputs": [],
   "source": [
    "import re"
   ]
  },
  {
   "cell_type": "code",
   "execution_count": 16,
   "id": "f29260e0-d9ee-4e0e-a951-1d6d4cca60a1",
   "metadata": {},
   "outputs": [
    {
     "ename": "ModuleNotFoundError",
     "evalue": "No module named 'primer3'",
     "output_type": "error",
     "traceback": [
      "\u001b[0;31m---------------------------------------------------------------------------\u001b[0m",
      "\u001b[0;31mModuleNotFoundError\u001b[0m                       Traceback (most recent call last)",
      "Input \u001b[0;32mIn [16]\u001b[0m, in \u001b[0;36m<cell line: 2>\u001b[0;34m()\u001b[0m\n\u001b[1;32m      1\u001b[0m \u001b[38;5;66;03m# !mamba install -c bioconda primer3 -y\u001b[39;00m\n\u001b[0;32m----> 2\u001b[0m \u001b[38;5;28;01mimport\u001b[39;00m \u001b[38;5;21;01mprimer3\u001b[39;00m\n",
      "\u001b[0;31mModuleNotFoundError\u001b[0m: No module named 'primer3'"
     ]
    }
   ],
   "source": [
    "# !mamba install -c bioconda primer3 -y\n",
    "import primer3"
   ]
  },
  {
   "cell_type": "markdown",
   "id": "7404ffe3",
   "metadata": {},
   "source": [
    "## Input Parameters"
   ]
  },
  {
   "cell_type": "code",
   "execution_count": 10,
   "id": "bb8bbf72",
   "metadata": {},
   "outputs": [],
   "source": [
    "name_this_run = \"Insert_run_name_here\""
   ]
  },
  {
   "cell_type": "code",
   "execution_count": 15,
   "id": "d1d9fe93-ff1a-4ebe-847e-4bd28b91f884",
   "metadata": {},
   "outputs": [
    {
     "name": "stdout",
     "output_type": "stream",
     "text": [
      "        1 gtccggatgc tgcgcctgcg gtagagcggc cgccatgttg caaccgggaa ggaaatgaat\n",
      "       61 gggcagccgt taggaaagcc tgccggtgac taaccctgcg ctcctgcctc gatgggtgga\n",
      "      121 gtcgcgtgtg gcggggaagt caggtggagc gaggctagct ggcccgattt ctcctccggg\n",
      "      181 tgatgctttt cctagattat tctctgattt ggtcgtattg ggcgcctggt caccagggct\n",
      "      241 gcttttaact ctggtaaagt ggatattgtt gccatcaatg accccttcat tgacctcaac\n",
      "      301 tacatggttt acatgttcca atatgattcc acccatggca aattccatgg caccgtcaag\n",
      "      361 gctgagaacg ggaagcttgt catcaatgga aatcccatca ccatcttcca ggagcgagat\n",
      "      421 ccctccaaaa tcaagtgggg cgatgctggc gctgagtacg tcgtggagtc cactggcgtc\n",
      "      481 ttcaccacca tggagaaggc tggggctcat ttgcaggggg gagccaaaag ggtcatcatc\n",
      "      541 tctgccccct ctgctgatgc ccccatgttc gtcatgggtg tgaaccatga gaagtatgac\n",
      "      601 aacagcctca agatcatcag caatgcctcc tgcaccacca actgcttagc acccctggcc\n",
      "      661 aaggtcatcc atgacaactt tggtatcgtg gaaggactca tgaccacagt ccatgccatc\n",
      "      721 actgccaccc agaagactgt ggatggcccc tccgggaaac tgtggcgtga tggccgcggg\n",
      "      781 gctctccaga acatcatccc tgcctctact ggcgctgcca aggctgtggg caaggtcatc\n",
      "      841 cctgagctga acgggaagct cactggcatg gccttccgtg tccccactgc caacgtgtca\n",
      "      901 gtggtggacc tgacctgccg tctagaaaaa cctgccaaat atgatgacat caagaaggtg\n",
      "      961 gtgaagcagg cgtcggaggg ccccctcaag ggcatcctgg gctacactga gcaccaggtg\n",
      "     1021 gtctcctctg acttcaacag cgacacccac tcctccacct ttgacgctgg ggctggcatt\n",
      "     1081 gccctcaacg accactttgt caagctcatt tcctggtatg acaacgaatt tggctacagc\n",
      "     1141 aacagggtgg tggacctcat ggcccacatg gcctccaagg agtaagaccc ctggaccacc\n",
      "     1201 agccccagca agagcacaag aggaagagag agaccctcac tgctggggag tccctgccac\n",
      "     1261 actcagtccc ccaccacact gaatctcccc tcctcacagt tgccatgtag accccttgaa\n",
      "     1321 gaggggaggg gcctagggag ccgcaccttg tcatgtacca tcaataaagt accctgtgct\n",
      "     1381 caacca\n"
     ]
    }
   ],
   "source": [
    "with open(\"../input/input_fasta.txt\") as file:\n",
    "        fasta_seq = file.read()\n",
    "print(fasta_seq)"
   ]
  },
  {
   "cell_type": "markdown",
   "id": "d1cba3eb",
   "metadata": {},
   "source": [
    "## Prepare inputs"
   ]
  },
  {
   "cell_type": "markdown",
   "id": "098dad0f",
   "metadata": {
    "tags": []
   },
   "source": [
    "### Format input gene"
   ]
  },
  {
   "cell_type": "code",
   "execution_count": 12,
   "id": "34e68f9c-cf08-458a-a310-ab207cab9344",
   "metadata": {},
   "outputs": [
    {
     "name": "stdout",
     "output_type": "stream",
     "text": [
      "aggcagactccacagctcccgccaggagaaaggaacattctgaggggagtctacaccctgtggagctcaagatggtcctgagtggggcgctgtgcttccgaatgaaggactcggcattgaaggtgctttatctgcataataaccagcttctagctggagggctgcatgcagggaaggtcattaaaggtgaagagatcagcgtggtccccaatcggtggctggatgccagcctgtcccccgtcatcctgggtgtccagggtggaagccagtgcctgtcatgtggggtggggcaggagccgactctaacactagagccagtgaacatcatggagctctatcttggtgccaaggaatccaagagcttcaccttctaccggcgggacatggggctcacctccagcttcgagtcggctgcctacccgggctggttcctgtgcacggtgcctgaagccgatcagcctgtcagactcacccagcttcccgagaatggtggctggaatgcccccatcacagacttctacttccagcagtgtgactagggcaacgtgccccccagaactccctgggcagagccagctcgggtgaggggtgagtggaggagacccatggcggacaatcactctctctgctctcaggacccccacgtctgacttagtgggcacctgaccactttgtcttctggttcccagtttggataaattctgagatttggagctcagtccacggtcctcccccactggatggtgctactgctgtggaatcttgtaaaaaccatgtggggtaaactgggaataacatgaaaagatttctgtggaggtggggtgggggagtggtgggaatcattcctgcttaatggtaactgaccagtgttaccctgagccccgcaggccaacccatccccagttgagccttatagggtcagtagctctccacatgaagacctgtcactcaccactatgcaggagagggaggtggtcatagagtcagggatctatggcccttggcccagccccacctccttccctttaatcctgccactgtcatatgctacctttcctatctcttccctcatcatcttgttgtgggcatgaggaggtgctgatgtcagaagaaatggctcgagctcagaagataaaagataagtagggtatgctgatcctcttttaaaaacccaagatacaatcaaaatcccagatgctggtctctattcccatgaaaaagtgctcatgacatattgagaagacctacttacaaagtggcatatattgcaatttattttaattaaaagatacctatttatatatttctttatagaaaaaagtctggaagagtttacttcaattgtagcaatgtcagggtggtggcagtataggtgatttttcttttaattctgttaatttacctgtatttcctaatttttctacaatgaagatgaattccttgtataaaaataagaaaagaaattaatcttgaggtaagcagagtagacatcatctctgattgtcctcagcctccacttccccagagtaaattcaaattgaatcgagctctgctgctctggttggttgtagtagtgatcaggaaacagatctcagcaaagccactgaggaggaggctgtgctgagtttgtgtggctggaatctctgggtaaggaacttaaagaacaaaaatcatctggtaattctttcctagaaggatcacagcccctgggattccaaggcattggatccagtctctaagaaggctgctgtactggttgaattgtgtccccctcaaattcacatccttcttggaatctcagtctgtgagtttatttggagataaggtctctgcagatgtagttagttaagacaaggtcatgctggatgaaggtagacctaaattcaatatgactggtttccttgtatgaaaaggagaggacacagagacagaggagatgcggggaagactatgtaaagatgaaggcagagatcggagttttgcagccacaagctaagaaacaccaaggattgtggcaaccatcagaagcttggaagaggcaaagaagaattcttccctagaggctttagagggataacggctctgctgaaaccttaatctcagacttccagcctcctgaacgaagaaagaataaatttcggctgttttaagccaccaaggataattggttacagcagctctaggaaactaatacagctgctaaaatgatccctgtctcctcgtgtttacattctgtgtgtgtcccctcccacaatgtaccaaagttgtctttgtgaccaatagaatatggcagaagtgatggcatgccacttccaagattaggttataaaagacactgcagcttctacttgagccctctctctctgccacccaccgcccccaatctatcttggctcactcgctctgggggaagctagctgccatgctatgagcaggcctataaagagacttacgtggtaaaaaatgaagtctcctgcccacagccacattagtgaacctagaagcagagactctgtgagataatcgatgtttgttgttttaagttgctcagttttggtctaacttgttatgcagcaatagataaataatatgcagagaaagagaaa\n"
     ]
    }
   ],
   "source": [
    "gene_seq = re.sub(\"\\W|\\d|\\n\", \"\", fasta_seq)\n",
    "\n",
    "print(gene_seq)"
   ]
  },
  {
   "cell_type": "code",
   "execution_count": 13,
   "id": "ccf1cc9f-4c6f-41cb-b455-53a83be5737e",
   "metadata": {},
   "outputs": [],
   "source": [
    "seq_info = {\n",
    "        'SEQUENCE_ID': name_this_run,\n",
    "        'SEQUENCE_TEMPLATE': gene_seq\n",
    "        # 'SEQUENCE_INCLUDED_REGION': [36,342]\n",
    "    }"
   ]
  },
  {
   "cell_type": "markdown",
   "id": "2a65d288",
   "metadata": {},
   "source": [
    "### Primer parameters\n",
    "\n",
    "[Documentation on available commands](https://primer3.org/manual.html#commandLineTags)"
   ]
  },
  {
   "cell_type": "code",
   "execution_count": 14,
   "id": "620373b2-600a-490f-bc0e-6137a8304f7f",
   "metadata": {},
   "outputs": [],
   "source": [
    "primer_param =     {\n",
    "        # 'PRIMER_OPT_SIZE': 20,\n",
    "        'PRIMER_PICK_INTERNAL_OLIGO': 1,\n",
    "        'PRIMER_INTERNAL_MAX_SELF_END': 8,\n",
    "        'PRIMER_MIN_SIZE': 10,\n",
    "        'PRIMER_MAX_SIZE': 36,\n",
    "        'PRIMER_OPT_TM': 60.0,\n",
    "        'PRIMER_MIN_TM': 58.0,\n",
    "        'PRIMER_MAX_TM': 63.0,\n",
    "        'PRIMER_MIN_GC': 45.0,\n",
    "        'PRIMER_MAX_GC': 100.0,\n",
    "        # 'PRIMER_MAX_POLY_X': 100,\n",
    "        # 'PRIMER_INTERNAL_MAX_POLY_X': 100,\n",
    "        # 'PRIMER_SALT_MONOVALENT': 50.0,\n",
    "        # 'PRIMER_DNA_CONC': 50.0,\n",
    "        # 'PRIMER_MAX_NS_ACCEPTED': 0,\n",
    "        # 'PRIMER_MAX_SELF_ANY': 12,\n",
    "        # 'PRIMER_MAX_SELF_END': 8,\n",
    "        # 'PRIMER_PAIR_MAX_COMPL_ANY': 12,\n",
    "        # 'PRIMER_PAIR_MAX_COMPL_END': 8,\n",
    "        'PRIMER_PRODUCT_SIZE_RANGE': [[75,100],[100,125],[125,150],\n",
    "                                      [150,175],[175,200],[200,225]],\n",
    "        'PRIMER_NUM_RETURN': 10,\n",
    "    }"
   ]
  },
  {
   "cell_type": "markdown",
   "id": "da077a19",
   "metadata": {},
   "source": [
    "## Run Primer-BLAST"
   ]
  },
  {
   "cell_type": "code",
   "execution_count": null,
   "id": "993d5449-a8a8-45a0-b57e-3e5d1b6cdaf6",
   "metadata": {},
   "outputs": [],
   "source": [
    "primer3.bindings.designPrimers(seq_info, primer_param)"
   ]
  }
 ],
 "metadata": {
  "kernelspec": {
   "display_name": "Python 3 (ipykernel)",
   "language": "python",
   "name": "python3"
  },
  "language_info": {
   "codemirror_mode": {
    "name": "ipython",
    "version": 3
   },
   "file_extension": ".py",
   "mimetype": "text/x-python",
   "name": "python",
   "nbconvert_exporter": "python",
   "pygments_lexer": "ipython3",
   "version": "3.9.13"
  },
  "vscode": {
   "interpreter": {
    "hash": "5c03e2c53522d26974ba8f9a9821b860749db140741a85930cb62c997a1515e6"
   }
  }
 },
 "nbformat": 4,
 "nbformat_minor": 5
}
